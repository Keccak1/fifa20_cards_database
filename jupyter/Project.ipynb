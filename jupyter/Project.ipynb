{
 "cells": [
  {
   "cell_type": "markdown",
   "metadata": {},
   "source": [
    "# Advanced Databases Course project\n",
    "\n",
    "## Analysis data and creating database contaning information about FIFA computer game cards.\n",
    "\n",
    "![image](assets/fifa_logo.jpeg)\n",
    "\n",
    "## Fifa has online game mode, where user collects the cards. Those cards are used to create own club. Each card includes information about player: personal information as well as technical skills of each player.\n",
    "\n",
    "<img src=\"assets/robercik.jpg\" width=\"300\" height=\"600\" align=\"center\"/>\n",
    "\n",
    "## This project tries to analize all the information included in cards and creates a SQL database which contain all the analysed information."
   ]
  },
  {
   "cell_type": "code",
   "execution_count": 1,
   "metadata": {},
   "outputs": [],
   "source": [
    "import pandas as pd"
   ]
  },
  {
   "cell_type": "code",
   "execution_count": 2,
   "metadata": {},
   "outputs": [],
   "source": [
    "DATA_PATH = \"data/players_20.csv\""
   ]
  },
  {
   "cell_type": "code",
   "execution_count": 3,
   "metadata": {},
   "outputs": [],
   "source": [
    "df  = pd.read_csv(DATA_PATH)"
   ]
  },
  {
   "cell_type": "markdown",
   "metadata": {},
   "source": [
    "# Preparing the data"
   ]
  },
  {
   "cell_type": "markdown",
   "metadata": {},
   "source": [
    "## Does the data was successfully loaded?"
   ]
  },
  {
   "cell_type": "code",
   "execution_count": 4,
   "metadata": {
    "scrolled": true
   },
   "outputs": [
    {
     "data": {
      "text/html": [
       "<div>\n",
       "<style scoped>\n",
       "    .dataframe tbody tr th:only-of-type {\n",
       "        vertical-align: middle;\n",
       "    }\n",
       "\n",
       "    .dataframe tbody tr th {\n",
       "        vertical-align: top;\n",
       "    }\n",
       "\n",
       "    .dataframe thead th {\n",
       "        text-align: right;\n",
       "    }\n",
       "</style>\n",
       "<table border=\"1\" class=\"dataframe\">\n",
       "  <thead>\n",
       "    <tr style=\"text-align: right;\">\n",
       "      <th></th>\n",
       "      <th>sofifa_id</th>\n",
       "      <th>player_url</th>\n",
       "      <th>short_name</th>\n",
       "      <th>long_name</th>\n",
       "      <th>age</th>\n",
       "      <th>dob</th>\n",
       "      <th>height_cm</th>\n",
       "      <th>weight_kg</th>\n",
       "      <th>nationality</th>\n",
       "      <th>club</th>\n",
       "      <th>...</th>\n",
       "      <th>lwb</th>\n",
       "      <th>ldm</th>\n",
       "      <th>cdm</th>\n",
       "      <th>rdm</th>\n",
       "      <th>rwb</th>\n",
       "      <th>lb</th>\n",
       "      <th>lcb</th>\n",
       "      <th>cb</th>\n",
       "      <th>rcb</th>\n",
       "      <th>rb</th>\n",
       "    </tr>\n",
       "  </thead>\n",
       "  <tbody>\n",
       "    <tr>\n",
       "      <th>0</th>\n",
       "      <td>158023</td>\n",
       "      <td>https://sofifa.com/player/158023/lionel-messi/...</td>\n",
       "      <td>L. Messi</td>\n",
       "      <td>Lionel Andrés Messi Cuccittini</td>\n",
       "      <td>32</td>\n",
       "      <td>1987-06-24</td>\n",
       "      <td>170</td>\n",
       "      <td>72</td>\n",
       "      <td>Argentina</td>\n",
       "      <td>FC Barcelona</td>\n",
       "      <td>...</td>\n",
       "      <td>68+2</td>\n",
       "      <td>66+2</td>\n",
       "      <td>66+2</td>\n",
       "      <td>66+2</td>\n",
       "      <td>68+2</td>\n",
       "      <td>63+2</td>\n",
       "      <td>52+2</td>\n",
       "      <td>52+2</td>\n",
       "      <td>52+2</td>\n",
       "      <td>63+2</td>\n",
       "    </tr>\n",
       "    <tr>\n",
       "      <th>1</th>\n",
       "      <td>20801</td>\n",
       "      <td>https://sofifa.com/player/20801/c-ronaldo-dos-...</td>\n",
       "      <td>Cristiano Ronaldo</td>\n",
       "      <td>Cristiano Ronaldo dos Santos Aveiro</td>\n",
       "      <td>34</td>\n",
       "      <td>1985-02-05</td>\n",
       "      <td>187</td>\n",
       "      <td>83</td>\n",
       "      <td>Portugal</td>\n",
       "      <td>Juventus</td>\n",
       "      <td>...</td>\n",
       "      <td>65+3</td>\n",
       "      <td>61+3</td>\n",
       "      <td>61+3</td>\n",
       "      <td>61+3</td>\n",
       "      <td>65+3</td>\n",
       "      <td>61+3</td>\n",
       "      <td>53+3</td>\n",
       "      <td>53+3</td>\n",
       "      <td>53+3</td>\n",
       "      <td>61+3</td>\n",
       "    </tr>\n",
       "  </tbody>\n",
       "</table>\n",
       "<p>2 rows × 104 columns</p>\n",
       "</div>"
      ],
      "text/plain": [
       "   sofifa_id                                         player_url  \\\n",
       "0     158023  https://sofifa.com/player/158023/lionel-messi/...   \n",
       "1      20801  https://sofifa.com/player/20801/c-ronaldo-dos-...   \n",
       "\n",
       "          short_name                            long_name  age         dob  \\\n",
       "0           L. Messi       Lionel Andrés Messi Cuccittini   32  1987-06-24   \n",
       "1  Cristiano Ronaldo  Cristiano Ronaldo dos Santos Aveiro   34  1985-02-05   \n",
       "\n",
       "   height_cm  weight_kg nationality          club  ...   lwb   ldm   cdm  \\\n",
       "0        170         72   Argentina  FC Barcelona  ...  68+2  66+2  66+2   \n",
       "1        187         83    Portugal      Juventus  ...  65+3  61+3  61+3   \n",
       "\n",
       "    rdm   rwb    lb   lcb    cb   rcb    rb  \n",
       "0  66+2  68+2  63+2  52+2  52+2  52+2  63+2  \n",
       "1  61+3  65+3  61+3  53+3  53+3  53+3  61+3  \n",
       "\n",
       "[2 rows x 104 columns]"
      ]
     },
     "execution_count": 4,
     "metadata": {},
     "output_type": "execute_result"
    }
   ],
   "source": [
    "df.head(2)"
   ]
  },
  {
   "cell_type": "markdown",
   "metadata": {},
   "source": [
    "## Reading unique information"
   ]
  },
  {
   "cell_type": "code",
   "execution_count": 5,
   "metadata": {},
   "outputs": [],
   "source": [
    "clubs = df[\"club\"].unique()"
   ]
  },
  {
   "cell_type": "code",
   "execution_count": 6,
   "metadata": {},
   "outputs": [],
   "source": [
    "national_teams = df[\"nationality\"].unique()"
   ]
  },
  {
   "cell_type": "code",
   "execution_count": 7,
   "metadata": {},
   "outputs": [],
   "source": [
    "body_types = df[\"body_type\"].unique()"
   ]
  },
  {
   "cell_type": "code",
   "execution_count": 8,
   "metadata": {},
   "outputs": [],
   "source": [
    "work_rates = df[\"work_rate\"].unique()"
   ]
  },
  {
   "cell_type": "code",
   "execution_count": 9,
   "metadata": {},
   "outputs": [],
   "source": [
    "player_traits_lines= df[\"player_traits\"].unique()\n",
    "player_traits = []\n",
    "for trait_line in player_traits_lines:\n",
    "    player_traits += [trait.strip() for trait in str(trait_line).split(\",\")]"
   ]
  },
  {
   "cell_type": "code",
   "execution_count": 10,
   "metadata": {},
   "outputs": [],
   "source": [
    "player_tags_lines = df[\"player_tags\"].unique()\n",
    "player_tags = []\n",
    "for tag_line_line in player_tags_lines:\n",
    "    player_tags += [str(tag.strip()[1:]) for tag in str(tag_line_line).split(\",\")]"
   ]
  },
  {
   "cell_type": "code",
   "execution_count": 11,
   "metadata": {},
   "outputs": [],
   "source": [
    "player_positions_lines = df[\"player_positions\"].unique()\n",
    "player_positions = []\n",
    "for position_line in player_positions_lines:\n",
    "    player_positions += [str(position.strip()) for position in str(position_line).split(\",\")]\n",
    "    \n",
    "player_positions+= df[\"nation_position\"].dropna().unique().tolist()\n",
    "player_positions+= df[\"team_position\"].dropna().unique().tolist()\n",
    "player_positions = list(set(player_positions))\n"
   ]
  },
  {
   "cell_type": "markdown",
   "metadata": {},
   "source": [
    "# Validating data"
   ]
  },
  {
   "cell_type": "markdown",
   "metadata": {},
   "source": [
    "## Validating columns with values between 0-100"
   ]
  },
  {
   "cell_type": "code",
   "execution_count": 12,
   "metadata": {},
   "outputs": [],
   "source": [
    "between_0_100_columns = [ 'overall',\n",
    " 'potential',\n",
    " 'pace',\n",
    " 'shooting',\n",
    " 'passing',\n",
    " 'dribbling',\n",
    " 'defending',\n",
    " 'physic',\n",
    " 'gk_diving',\n",
    " 'gk_handling',\n",
    " 'gk_kicking',\n",
    " 'gk_reflexes',\n",
    " 'gk_speed',\n",
    " 'gk_positioning',\n",
    " 'attacking_crossing',\n",
    " 'attacking_finishing',\n",
    " 'attacking_heading_accuracy',\n",
    " 'attacking_short_passing',\n",
    " 'attacking_volleys',\n",
    " 'skill_dribbling',\n",
    " 'skill_curve',\n",
    " 'skill_fk_accuracy',\n",
    " 'skill_long_passing',\n",
    " 'skill_ball_control',\n",
    " 'movement_acceleration',\n",
    " 'movement_sprint_speed',\n",
    " 'movement_agility',\n",
    " 'movement_reactions',\n",
    " 'movement_balance',\n",
    " 'power_shot_power',\n",
    " 'power_jumping',\n",
    " 'power_stamina',\n",
    " 'power_strength',\n",
    " 'power_long_shots',\n",
    " 'mentality_aggression',\n",
    " 'mentality_interceptions',\n",
    " 'mentality_positioning',\n",
    " 'mentality_vision',\n",
    " 'mentality_penalties',\n",
    " 'mentality_composure',\n",
    " 'defending_marking',\n",
    " 'defending_standing_tackle',\n",
    " 'defending_sliding_tackle',\n",
    " 'goalkeeping_diving',\n",
    " 'goalkeeping_handling',\n",
    " 'goalkeeping_kicking',\n",
    " 'goalkeeping_positioning',\n",
    " 'team_jersey_number',\n",
    " 'nation_jersey_number'                     ]"
   ]
  },
  {
   "cell_type": "markdown",
   "metadata": {},
   "source": [
    "### Some of the statistics are only valid for goalkeeper or filed player. In this case the value in column is just empty.This scenarion is perfectly fine. To ignore these values in the comparing, Nan columns will be changed to 99\n"
   ]
  },
  {
   "cell_type": "code",
   "execution_count": 13,
   "metadata": {},
   "outputs": [],
   "source": [
    "df_between_0_and_100 = df[between_0_100_columns].fillna(99)\n",
    "ge100_0_100 = (df_between_0_and_100.ge(100)).any().any()\n",
    "le0_0_100 = (df_between_0_and_100.le(0)).any().any()\n",
    "valid0_100 = (not ge100_0_100) and (not le0_0_100) "
   ]
  },
  {
   "cell_type": "markdown",
   "metadata": {},
   "source": [
    "# Validating columns with values between 0-5"
   ]
  },
  {
   "cell_type": "code",
   "execution_count": 14,
   "metadata": {},
   "outputs": [],
   "source": [
    "df_between_0_and_5 = ['international_reputation',\n",
    " 'weak_foot',\n",
    " 'skill_moves']\n",
    "\n",
    "df_between_0_and_5 = df[df_between_0_and_5]\n",
    "ge5_0_5 = (df_between_0_and_5.ge(5)).any().any()\n",
    "le0_0_5 = (df_between_0_and_5.le(0)).any().any()\n",
    "valid0_5 = (not le0_0_5) and (not ge5_0_5) "
   ]
  },
  {
   "cell_type": "markdown",
   "metadata": {},
   "source": [
    "# Conecting with database"
   ]
  },
  {
   "cell_type": "code",
   "execution_count": 15,
   "metadata": {},
   "outputs": [
    {
     "name": "stdout",
     "output_type": "stream",
     "text": [
      "Requirement already satisfied: SQLAlchemy in /opt/conda/lib/python3.8/site-packages (1.3.19)\n",
      "Requirement already satisfied: psycopg2-binary in /opt/conda/lib/python3.8/site-packages (2.8.5)\n"
     ]
    }
   ],
   "source": [
    "import sys\n",
    "!{sys.executable} -m pip install SQLAlchemy\n",
    "!{sys.executable} -m pip install psycopg2-binary"
   ]
  },
  {
   "cell_type": "code",
   "execution_count": 16,
   "metadata": {},
   "outputs": [],
   "source": [
    "from sqlalchemy import create_engine, MetaData, Table,ForeignKey, Sequence, CheckConstraint, UniqueConstraint, Boolean\n",
    "from sqlalchemy.ext.declarative import declarative_base\n",
    "from sqlalchemy import Column, Integer, String, Date\n",
    "from sqlalchemy.dialects.mysql import INTEGER\n",
    "\n",
    "conn_url = 'postgresql+psycopg2://mcichock:student@db/fifa'\n",
    "engine = create_engine(conn_url)\n",
    "Base = declarative_base()"
   ]
  },
  {
   "cell_type": "markdown",
   "metadata": {},
   "source": [
    "## Creating tables"
   ]
  },
  {
   "cell_type": "markdown",
   "metadata": {},
   "source": [
    "### Defining Enums"
   ]
  },
  {
   "cell_type": "code",
   "execution_count": 17,
   "metadata": {},
   "outputs": [],
   "source": [
    "from sqlalchemy import Enum\n",
    "import enum\n",
    "\n",
    "class BetterFoot(enum.Enum):\n",
    "    LEFT = 0\n",
    "    RIGHT = 1"
   ]
  },
  {
   "cell_type": "markdown",
   "metadata": {},
   "source": [
    "### BodyType"
   ]
  },
  {
   "cell_type": "code",
   "execution_count": 18,
   "metadata": {},
   "outputs": [],
   "source": [
    "class BodyType(Base):\n",
    "    __tablename__ = 'BodyType'\n",
    "    __table_args__ = (    \n",
    "        UniqueConstraint('body_type'),\n",
    "    )\n",
    "    id = Column(Integer, primary_key=True)\n",
    "    body_type = Column(String(50), nullable=False, server_default=\"Normal\")\n",
    "    \n",
    "    def __repr__(self):\n",
    "        return \"<BodyType(id='{0}', body_type={1}\".format(\n",
    "            self.id, self.body_type)"
   ]
  },
  {
   "cell_type": "markdown",
   "metadata": {},
   "source": [
    "### Work Rate"
   ]
  },
  {
   "cell_type": "code",
   "execution_count": 19,
   "metadata": {},
   "outputs": [],
   "source": [
    "class WorkRate(Base):\n",
    "    __tablename__ = 'WorkRate'\n",
    "    __table_args__ = (    \n",
    "        UniqueConstraint('work_rate'),\n",
    "    )\n",
    "    id = Column(Integer, primary_key=True)\n",
    "    work_rate = Column(String(50), nullable=False)\n",
    "\n",
    "    def __repr__(self):\n",
    "        return \"<WorkRate(id='{0}', work_rate={1}\".format(\n",
    "            self.id, self.work_rate)"
   ]
  },
  {
   "cell_type": "markdown",
   "metadata": {},
   "source": [
    "### PersonalPhysics"
   ]
  },
  {
   "cell_type": "code",
   "execution_count": 20,
   "metadata": {},
   "outputs": [],
   "source": [
    "class PersonalPhysical(Base):\n",
    "    __tablename__ = 'PersonalPhysical'\n",
    "    id = Column(Integer, primary_key=True)\n",
    "    height = Column(INTEGER(unsigned=True), nullable=False)\n",
    "    weight = Column(INTEGER(unsigned=True), nullable=False)\n",
    "    body_type_id = Column(Integer, ForeignKey('BodyType.id'))\n",
    "    \n",
    "    \n",
    "    def __repr__(self):\n",
    "        return \"<PersonalPhysical(id='{0}', height={1}, weight={2}, body_type_id={3}\".format(\n",
    "            self.id, self.height, self.weight,self.body_type_id)"
   ]
  },
  {
   "cell_type": "markdown",
   "metadata": {},
   "source": [
    "### PersonalInfo"
   ]
  },
  {
   "cell_type": "code",
   "execution_count": 21,
   "metadata": {},
   "outputs": [],
   "source": [
    "class PersonalInfo(Base):\n",
    "    __tablename__ = 'PersonalInfo'\n",
    "    id = Column(Integer, primary_key=True)\n",
    "    short_name = Column(String(60), nullable=False)\n",
    "    long_name = Column(String(300), nullable=False)\n",
    "    dob = Column(Date, nullable=False)\n",
    "    nationality = Column(String(60), nullable=False)\n",
    "    def __repr__(self):\n",
    "        return \"<PersonalInfo(id='{0}', short_name={1}, long_name={2}, dob={3}, nationality={4}\".format(\n",
    "            self.id, self.short_name, self.long_name,self.dob, self.nationality)"
   ]
  },
  {
   "cell_type": "markdown",
   "metadata": {},
   "source": [
    "### Club"
   ]
  },
  {
   "cell_type": "code",
   "execution_count": 22,
   "metadata": {},
   "outputs": [],
   "source": [
    "class Club(Base):\n",
    "    __tablename__ = 'Club'\n",
    "    __table_args__ = (    \n",
    "        UniqueConstraint('name'),\n",
    "    )\n",
    "    id = Column(Integer, primary_key=True)\n",
    "    name = Column(String(60), nullable=False)\n",
    "    def __repr__(self):\n",
    "        return \"<Club(id='{0}', name={1}\".format(self.id, self.name)"
   ]
  },
  {
   "cell_type": "markdown",
   "metadata": {},
   "source": [
    "### Contract Details"
   ]
  },
  {
   "cell_type": "code",
   "execution_count": 23,
   "metadata": {},
   "outputs": [],
   "source": [
    "class ContractDetails(Base):\n",
    "    __tablename__ = 'ContractDetails'\n",
    "    id = Column(Integer, primary_key=True)\n",
    "    wag_eur = Column(INTEGER(unsigned=True), nullable=False)\n",
    "    release_eur = Column(INTEGER(unsigned=True), nullable=True)\n",
    "    valid_until = Column(INTEGER(unsigned=True), nullable=False)\n",
    "    loaded_from = Column(Integer, ForeignKey('Club.id'), nullable=True)\n",
    "    def __repr__(self):\n",
    "        return \"<ContractDetails(id='{0}', wag_eur={1}, release_eur={2},valid_until={3}, loaded_from={4}\".format(self.id, self.wag_eur, self.release_eur, self.valid_until, self.loaded_from)"
   ]
  },
  {
   "cell_type": "markdown",
   "metadata": {},
   "source": [
    "### Nationality"
   ]
  },
  {
   "cell_type": "code",
   "execution_count": 24,
   "metadata": {},
   "outputs": [],
   "source": [
    "class Nationality(Base):\n",
    "    __tablename__ = 'Nationality'\n",
    "    __table_args__ = (    \n",
    "        UniqueConstraint('name'),\n",
    "    )\n",
    "    id = Column(Integer, primary_key=True)\n",
    "    name = Column(String(60), nullable=False)\n",
    "    def __repr__(self):\n",
    "        return \"<Nationality(id='{0}', name={1}\".format(self.id, self.name)"
   ]
  },
  {
   "cell_type": "markdown",
   "metadata": {},
   "source": [
    "### Position"
   ]
  },
  {
   "cell_type": "code",
   "execution_count": 25,
   "metadata": {},
   "outputs": [],
   "source": [
    "class Position(Base):\n",
    "    __tablename__ = 'Position'\n",
    "    __table_args__ = (    \n",
    "        UniqueConstraint('position'),\n",
    "    )\n",
    "    id = Column(Integer, primary_key=True)\n",
    "    position = Column(String(60), nullable=False)\n",
    "    def __repr__(self):\n",
    "        return \"<Position(id='{0}', position={1}\".format(self.id, self.position)"
   ]
  },
  {
   "cell_type": "markdown",
   "metadata": {},
   "source": [
    "### Trait"
   ]
  },
  {
   "cell_type": "code",
   "execution_count": 26,
   "metadata": {},
   "outputs": [],
   "source": [
    "class Trait(Base):\n",
    "    __tablename__ = 'Trait'\n",
    "    __table_args__ = (    \n",
    "        UniqueConstraint('trait'),\n",
    "    )\n",
    "    id = Column(Integer, primary_key=True)\n",
    "    trait = Column(String(60), nullable=False)\n",
    "    def __repr__(self):\n",
    "        return \"<Trait(id='{0}', trait={1}\".format(self.id, self.trait)"
   ]
  },
  {
   "cell_type": "markdown",
   "metadata": {},
   "source": [
    "### Tag"
   ]
  },
  {
   "cell_type": "code",
   "execution_count": 27,
   "metadata": {},
   "outputs": [],
   "source": [
    "class Tag(Base):\n",
    "    __tablename__ = 'Tag'\n",
    "    __table_args__ = (    \n",
    "        UniqueConstraint('tag'),\n",
    "    )\n",
    "    id = Column(Integer, primary_key=True)\n",
    "    tag = Column(String(60), nullable=False)\n",
    "    def __repr__(self):\n",
    "        return \"<Tag(id='{0}', tag={1}\".format(self.id, self.tag)"
   ]
  },
  {
   "cell_type": "markdown",
   "metadata": {},
   "source": [
    "### Attacking Stats"
   ]
  },
  {
   "cell_type": "code",
   "execution_count": 28,
   "metadata": {},
   "outputs": [],
   "source": [
    "class AttackingStats(Base):\n",
    "    __tablename__ = 'AttackingStats'\n",
    "    __table_args__ = (    \n",
    "        CheckConstraint('(crossing > 0) and (crossing <100)'),\n",
    "        CheckConstraint('(finishing > 0) and (finishing <100)'),\n",
    "        CheckConstraint('(heading > 0) and (heading <100)'),\n",
    "        CheckConstraint('(short_pass > 0) and (short_pass <100)'),\n",
    "        CheckConstraint('(volleys > 0) and (volleys <100)'),\n",
    "    )\n",
    "    id = Column(Integer, primary_key=True)\n",
    "    crossing = Column(INTEGER(unsigned=True), nullable=False)\n",
    "    finishing = Column(INTEGER(unsigned=True), nullable=False)\n",
    "    heading = Column(INTEGER(unsigned=True), nullable=False)\n",
    "    short_pass = Column(INTEGER(unsigned=True), nullable=False)\n",
    "    volleys = Column(INTEGER(unsigned=True), nullable=False)\n",
    "    def __repr__(self):\n",
    "        return \"<AttackingStats(id='{0}', crossing={1}, finishing={2}\\\n",
    "        heading={3}, short_pases-{4}, volleys={5}\".format(self.id, self.crossing,\\\n",
    "        self.finishing.self.heading, self.short_pass. self.volleys)"
   ]
  },
  {
   "cell_type": "markdown",
   "metadata": {},
   "source": [
    "### Skill Stats"
   ]
  },
  {
   "cell_type": "code",
   "execution_count": 29,
   "metadata": {},
   "outputs": [],
   "source": [
    "class SkillStats(Base):\n",
    "    __tablename__ = 'SkillStats'\n",
    "    id = Column(Integer, primary_key=True)\n",
    "    dribbling = Column(INTEGER(unsigned=True), nullable=False)\n",
    "    curve = Column(INTEGER(unsigned=True), nullable=False)\n",
    "    fk_accuracy = Column(INTEGER(unsigned=True), nullable=False)\n",
    "    long_passing = Column(INTEGER(unsigned=True), nullable=False)\n",
    "    ball_control = Column(INTEGER(unsigned=True), nullable=False)\n",
    "    def __repr__(self):\n",
    "        return \"<SkillStats(id='{0}', dribbling={1}, curve={2}\\\n",
    "        fk_accuracy={3}, long_passing={4}, ball_control={5}\".format(self.id, self.dribbling,\\\n",
    "        self.curve, self.fk_accuracy. self.long_passing. self.ball_control)"
   ]
  },
  {
   "cell_type": "markdown",
   "metadata": {},
   "source": [
    "### Movement Stats"
   ]
  },
  {
   "cell_type": "code",
   "execution_count": 30,
   "metadata": {},
   "outputs": [],
   "source": [
    "class MovementStats(Base):\n",
    "    __tablename__ = 'MovementStats'\n",
    "    __table_args__ = (    \n",
    "        CheckConstraint('(acceleration > 0) and (acceleration <100)'),\n",
    "        CheckConstraint('(sprint > 0) and (sprint <100)'),\n",
    "        CheckConstraint('(agility > 0) and (agility <100)'),\n",
    "        CheckConstraint('(reactions > 0) and (reactions <100)'),\n",
    "        CheckConstraint('(balance > 0) and (balance <100)'),\n",
    "    )\n",
    "    id = Column(Integer, primary_key=True)\n",
    "    acceleration = Column(INTEGER(unsigned=True), nullable=False)\n",
    "    sprint = Column(INTEGER(unsigned=True), nullable=False)\n",
    "    agility = Column(INTEGER(unsigned=True), nullable=False)\n",
    "    reactions = Column(INTEGER(unsigned=True), nullable=False)\n",
    "    balance = Column(INTEGER(unsigned=True), nullable=False)\n",
    "    def __repr__(self):\n",
    "        return \"<MovementStats(id='{0}', acceleration={1}, sprint={2}\\\n",
    "        agility={3}, reactions-{4}, balance={5}\".format(self.id, self.acceleration,\\\n",
    "        self.sprint, self.agility, self.reactions, self.balance)"
   ]
  },
  {
   "cell_type": "markdown",
   "metadata": {},
   "source": [
    "### Power Stats"
   ]
  },
  {
   "cell_type": "code",
   "execution_count": 31,
   "metadata": {},
   "outputs": [],
   "source": [
    "class PowerStats(Base):\n",
    "    __tablename__ = 'PowerStats'\n",
    "    __table_args__ = (    \n",
    "        CheckConstraint('(shot > 0) and (shot <100)'),\n",
    "        CheckConstraint('(jumping > 0) and (jumping <100)'),\n",
    "        CheckConstraint('(stamina > 0) and (stamina <100)'),\n",
    "        CheckConstraint('(strength > 0) and (strength <100)'),\n",
    "        CheckConstraint('(long_shot > 0) and (long_shot <100)'),\n",
    "    )\n",
    "    id = Column(Integer, primary_key=True)\n",
    "    shot = Column(INTEGER(unsigned=True), nullable=False)\n",
    "    jumping = Column(INTEGER(unsigned=True), nullable=False)\n",
    "    stamina = Column(INTEGER(unsigned=True), nullable=False)\n",
    "    strength = Column(INTEGER(unsigned=True), nullable=False)\n",
    "    long_shot = Column(INTEGER(unsigned=True), nullable=False)\n",
    "    def __repr__(self):\n",
    "        return \"<PowerStats(id='{0}', shot={1}, jumping={2}\\\n",
    "        stamina={3}, strength={4}, long_shot={5}\".format(self.id, self.shot,\\\n",
    "        self.jumping, self.stamina, self.strength, self.long_shot)"
   ]
  },
  {
   "cell_type": "markdown",
   "metadata": {},
   "source": [
    "### Mentality Stats"
   ]
  },
  {
   "cell_type": "code",
   "execution_count": 32,
   "metadata": {},
   "outputs": [],
   "source": [
    "class MentalityStats(Base):\n",
    "    __tablename__ = 'MentalityStats'\n",
    "    __table_args__ = (    \n",
    "        CheckConstraint('(aggression > 0) and (aggression <100)'),\n",
    "        CheckConstraint('(interceptions > 0) and (interceptions <100)'),\n",
    "        CheckConstraint('(positioning > 0) and (positioning <100)'),\n",
    "        CheckConstraint('(vision > 0) and (vision <100)'),\n",
    "        CheckConstraint('(penalties > 0) and (penalties <100)'),\n",
    "        CheckConstraint('(composure > 0) and (composure <100)'),\n",
    "    )\n",
    "    id = Column(Integer, primary_key=True)\n",
    "    aggression = Column(INTEGER(unsigned=True), nullable=False)\n",
    "    interceptions = Column(INTEGER(unsigned=True), nullable=False)\n",
    "    positioning = Column(INTEGER(unsigned=True), nullable=False)\n",
    "    vision = Column(INTEGER(unsigned=True), nullable=False)\n",
    "    penalties = Column(INTEGER(unsigned=True), nullable=False)\n",
    "    composure = Column(INTEGER(unsigned=True), nullable=False)\n",
    "    def __repr__(self):\n",
    "        return \"<MentalityStats(id='{0}', aggression={1}, interceptions={2}\\\n",
    "        positioning={3}, vision={4}, penalties={5}, composure={composure}\".format(self.id, self.shot,\\\n",
    "        self.jumping, self.stamina, self.strength, self.long_shot, self.composure)"
   ]
  },
  {
   "cell_type": "markdown",
   "metadata": {},
   "source": [
    "### Defending Stats"
   ]
  },
  {
   "cell_type": "code",
   "execution_count": 33,
   "metadata": {},
   "outputs": [],
   "source": [
    "class DefendingStats(Base):\n",
    "    __tablename__ = 'DefendingStats'\n",
    "    __table_args__ = (    \n",
    "        CheckConstraint('(marking > 0) and (marking <100)'),\n",
    "        CheckConstraint('(standing_tackle > 0) and (standing_tackle <100)'),\n",
    "        CheckConstraint('(sliding_tackle > 0) and (sliding_tackle <100)'),\n",
    "    )\n",
    "    id = Column(Integer, primary_key=True)\n",
    "    marking = Column(INTEGER(unsigned=True), nullable=False)\n",
    "    standing_tackle = Column(INTEGER(unsigned=True), nullable=False)\n",
    "    sliding_tackle = Column(INTEGER(unsigned=True), nullable=False)\n",
    "    def __repr__(self):\n",
    "        return \"<DefendingStats(id='{0}', marking={1}, standing_tackle={2}\\\n",
    "        sliding_tackle={3}\".format(self.id, self.marking,\\\n",
    "        self.standing_tackle, self.sliding_tackle)"
   ]
  },
  {
   "cell_type": "markdown",
   "metadata": {},
   "source": [
    "### Goalkeeping Stats"
   ]
  },
  {
   "cell_type": "code",
   "execution_count": 34,
   "metadata": {},
   "outputs": [],
   "source": [
    "class GoalkeepingStats(Base):\n",
    "    __tablename__ = 'GoalkeepingStats'\n",
    "    __table_args__ = (    \n",
    "        CheckConstraint('(diving > 0) and (diving <100)'),\n",
    "        CheckConstraint('(handling > 0) and (handling <100)'),\n",
    "        CheckConstraint('(kicking > 0) and (kicking <100)'),\n",
    "        CheckConstraint('(positioning > 0) and (positioning <100)'),\n",
    "        CheckConstraint('(reflexes > 0) and (reflexes <100)'),\n",
    "    )\n",
    "    id = Column(Integer, primary_key=True)\n",
    "    diving = Column(INTEGER(unsigned=True), nullable=False)\n",
    "    handling = Column(INTEGER(unsigned=True), nullable=False)\n",
    "    kicking = Column(INTEGER(unsigned=True), nullable=False)\n",
    "    positioning = Column(INTEGER(unsigned=True), nullable=False)\n",
    "    reflexes = Column(INTEGER(unsigned=True), nullable=False)\n",
    "    def __repr__(self):\n",
    "        return \"<GoalkeepingStats(id='{0}', diving={1}, handling={2}\\\n",
    "        kicking={3}, positioning={4}, reflexes={5}\".format(self.id, self.diving,\\\n",
    "        self.handling, self.kicking, self.positioning, self.reflexes)"
   ]
  },
  {
   "cell_type": "markdown",
   "metadata": {},
   "source": [
    "### Detailed Stats"
   ]
  },
  {
   "cell_type": "code",
   "execution_count": 35,
   "metadata": {},
   "outputs": [],
   "source": [
    "class DetailedStats(Base):\n",
    "    __tablename__ = 'DetailedStats'\n",
    "    id = Column(Integer, primary_key=True)\n",
    "    attacking_id = Column(Integer, ForeignKey('AttackingStats.id'))\n",
    "    skills_id = Column(Integer, ForeignKey('SkillStats.id'))\n",
    "    movement_id = Column(Integer, ForeignKey('MovementStats.id'))\n",
    "    power_id = Column(Integer, ForeignKey('PowerStats.id'))\n",
    "    mentality_id =  Column(Integer, ForeignKey('MentalityStats.id'))\n",
    "    defending_id =  Column(Integer, ForeignKey('DefendingStats.id'))\n",
    "    goalkeeping_id =  Column(Integer, ForeignKey('GoalkeepingStats.id'))\n",
    "    def __repr__(self):\n",
    "        return \"<DetailedStats(id='{0}', attacking_id={1}, skills_id={2}\\\n",
    "        movement_id={3}, power_id={4}, mentality_id={5} defending_id={6}, goalkeeping_id{7}\".format(self.id, self.attacking_id,\\\n",
    "       self.skills_id,self.movement_id, self.power_id, self.mentality_id, self.defending_id, self.goalkeeping_id)"
   ]
  },
  {
   "cell_type": "markdown",
   "metadata": {},
   "source": [
    "### Filed Player Stats"
   ]
  },
  {
   "cell_type": "code",
   "execution_count": 36,
   "metadata": {},
   "outputs": [],
   "source": [
    "class FieldPlayerStats(Base):\n",
    "    __tablename__ = 'FieldPlayerStats'\n",
    "    __table_args__ = (    \n",
    "        CheckConstraint('(pace > 0) and (pace <100)'),\n",
    "        CheckConstraint('(shooting > 0) and (shooting <100)'),\n",
    "        CheckConstraint('(passing > 0) and (passing <100)'),\n",
    "        CheckConstraint('(dribbling > 0) and (dribbling <100)'),\n",
    "        CheckConstraint('(defending > 0) and (defending <100)'),\n",
    "        CheckConstraint('(physic > 0) and (physic <100)'),\n",
    "    )\n",
    "    id = Column(Integer, primary_key=True)\n",
    "    pace= Column(INTEGER(unsigned=True), nullable=False)\n",
    "    shooting = Column(INTEGER(unsigned=True), nullable=False)\n",
    "    passing = Column(INTEGER(unsigned=True), nullable=False)\n",
    "    dribbling = Column(INTEGER(unsigned=True), nullable=False)\n",
    "    defending = Column(INTEGER(unsigned=True), nullable=False)\n",
    "    physic = Column(INTEGER(unsigned=True), nullable=False)\n",
    "    personal_physical_id = Column(Integer, ForeignKey('GoalkeeperStats.id'),  nullable=True)\n",
    "    \n",
    "    def __repr__(self):\n",
    "        return \"<FieldPlayerStats(id='{0}',pace={1}, shooting={2}, passing={3}\\\n",
    "        dribbling={4}, defending={5}, physic={6}\".format(self.id, self.pace,\\\n",
    "        self.shooting, self.passing, self.dribbling, self.defending, self.physic)"
   ]
  },
  {
   "cell_type": "markdown",
   "metadata": {},
   "source": [
    "### Goalkeer Stats"
   ]
  },
  {
   "cell_type": "code",
   "execution_count": 37,
   "metadata": {},
   "outputs": [],
   "source": [
    "class GoalkeeperStats(Base):\n",
    "    __tablename__ = 'GoalkeeperStats'\n",
    "    __table_args__ = (    \n",
    "        CheckConstraint('(diving > 0) and (diving <100)'),\n",
    "        CheckConstraint('(handling > 0) and (handling <100)'),\n",
    "        CheckConstraint('(kicking > 0) and (kicking <100)'),\n",
    "        CheckConstraint('(reflexes > 0) and (reflexes <100)'),\n",
    "        CheckConstraint('(speed > 0) and (speed <100)'),\n",
    "        CheckConstraint('(positioning > 0) and (positioning <100)'),\n",
    "    )\n",
    "    id = Column(Integer, primary_key=True)\n",
    "    diving= Column(INTEGER(unsigned=True), nullable=False)\n",
    "    handling = Column(INTEGER(unsigned=True), nullable=False)\n",
    "    kicking = Column(INTEGER(unsigned=True), nullable=False)\n",
    "    reflexes = Column(INTEGER(unsigned=True), nullable=False)\n",
    "    speed = Column(INTEGER(unsigned=True), nullable=False)\n",
    "    positioning = Column(INTEGER(unsigned=True), nullable=False)\n",
    "    def __repr__(self):\n",
    "        return \"<GoalkeeperStats(id='{0}',diving={1}, handling={2}, kicking={3}\\\n",
    "        reflexes={4}, speed={5}, positioning={6}\".format(self.id, self.diving,\\\n",
    "        self.handling, self.kicking, self.reflexes, self.speed, self.positioning)"
   ]
  },
  {
   "cell_type": "markdown",
   "metadata": {},
   "source": [
    "### Overall Stats"
   ]
  },
  {
   "cell_type": "code",
   "execution_count": 38,
   "metadata": {},
   "outputs": [],
   "source": [
    "class OverallStats(Base):\n",
    "    __tablename__ = 'OverallStats'\n",
    "    id = Column(Integer, primary_key=True)\n",
    "    overall= Column(INTEGER(unsigned=True), nullable=False)\n",
    "    potential = Column(INTEGER(unsigned=True), nullable=False)\n",
    "    field_player_id = Column(Integer, ForeignKey('FieldPlayerStats.id'),  nullable=True)\n",
    "    goalkeeper_id = Column(Integer, ForeignKey('GoalkeeperStats.id'),  nullable=True)\n",
    "    def __repr__(self):\n",
    "        return \"<OverallStats(id='{0}', overall={1}, potential={2}\\\n",
    "        field_player_id={3}, goalkeeper_id={4}\".format(self.id, self.overall,\\\n",
    "       self.potential, self.field_player_id, self.goalkeeper_id)"
   ]
  },
  {
   "cell_type": "markdown",
   "metadata": {},
   "source": [
    "### Stars"
   ]
  },
  {
   "cell_type": "code",
   "execution_count": 39,
   "metadata": {},
   "outputs": [],
   "source": [
    "class Stars(Base):\n",
    "    __tablename__ = 'Stars'\n",
    "    __table_args__ = (    \n",
    "        CheckConstraint('(skills > 0) and (skills <6)'),\n",
    "        CheckConstraint('(reputation > 0) and (reputation <6)'),\n",
    "        CheckConstraint('(weak_foot > 0) and (weak_foot <6)'),\n",
    "    )\n",
    "    id = Column(Integer, primary_key=True)\n",
    "    skills= Column(INTEGER(unsigned=True), nullable=False)\n",
    "    reputation = Column(INTEGER(unsigned=True), nullable=False)\n",
    "    weak_foot = Column(INTEGER(unsigned=True), nullable=False)\n",
    "    def __repr__(self):\n",
    "        return \"<Stars(id='{0}',skills={1}, reputation={2}, weak_foot={3}\".format(self.id, self.skills,\\\n",
    "        self.reputation, self.weak_foot)"
   ]
  },
  {
   "cell_type": "markdown",
   "metadata": {},
   "source": [
    " ### Fifa Card"
   ]
  },
  {
   "cell_type": "code",
   "execution_count": 40,
   "metadata": {},
   "outputs": [],
   "source": [
    "class FifaCard(Base):\n",
    "    __tablename__ = 'FifaCard'\n",
    "\n",
    "    id = Column(Integer, primary_key=True)\n",
    "    personal_info_id = Column(Integer, ForeignKey('PersonalInfo.id'),  nullable=False)\n",
    "    personal_physical_id = Column(Integer, ForeignKey('PersonalPhysical.id'), nullable=False)\n",
    "    overall_stats_id = Column(Integer, ForeignKey('OverallStats.id'),  nullable=False)\n",
    "    detailed_stats_id = Column(Integer, ForeignKey('DetailedStats.id'),  nullable=False)\n",
    "    nationality_id = Column(Integer, ForeignKey('Nationality.id'),  nullable=False)\n",
    "    work_rate_id = Column(Integer, ForeignKey('WorkRate.id'),  nullable=False)\n",
    "    real_face = Column(Boolean, default=True,  nullable=False)\n",
    "    better_foot = Column(Enum(BetterFoot), default=BetterFoot.RIGHT)\n",
    "    value_eur = Column(INTEGER(unsigned=True),  nullable=False)\n",
    "    \n",
    "    def __repr__(self):\n",
    "        return \"<FifaCard(id='{0}', personal_info_id={1}, overall_stats_id={2}\\\n",
    "        detailed_stats_id={3}, work_rate_id={4}, real_face={5}, better_foot={6}, personal_physical_id={7}, value_eur={8}, nationality_id={7}\".format(self.id, self.personal_info_id,\\\n",
    "       self.overall_stats_id, self.detailed_stats_id, self.work_rate_id, self.real_face, self.better_foot, self.personal_physical_id, self.value_eur, self.nationality_id)"
   ]
  },
  {
   "cell_type": "markdown",
   "metadata": {},
   "source": [
    "### Fifa Card To Position"
   ]
  },
  {
   "cell_type": "code",
   "execution_count": 41,
   "metadata": {},
   "outputs": [],
   "source": [
    "class PositionToFifaCard(Base):\n",
    "    __tablename__ = 'PositionToFifaCard'\n",
    "    id = Column(Integer, primary_key=True)\n",
    "    card_id = Column(Integer, ForeignKey('FifaCard.id'),  nullable=False)\n",
    "    position_id = Column(Integer, ForeignKey('Position.id'),  nullable=False)\n",
    "    \n",
    "    def __repr__(self):\n",
    "        return \"<PositionToFifaCard(id='{0}', card_id={1}, position_id={2}\".format(self.id, self.card_id,\\\n",
    "       self.position_id)"
   ]
  },
  {
   "cell_type": "markdown",
   "metadata": {},
   "source": [
    "### Trait To Fifa Card"
   ]
  },
  {
   "cell_type": "code",
   "execution_count": 42,
   "metadata": {},
   "outputs": [],
   "source": [
    "class TraitToFifaCard(Base):\n",
    "    __tablename__ = 'TraitToFifaCard'\n",
    "    id = Column(Integer, primary_key=True)\n",
    "    card_id = Column(Integer, ForeignKey('FifaCard.id'),  nullable=False)\n",
    "    trait_id = Column(Integer, ForeignKey('Trait.id'),  nullable=False)\n",
    "    \n",
    "    def __repr__(self):\n",
    "        return \"<TraitToFifaCard(id='{0}', card_id={1}, trait_id={2}\".format(self.id, self.card_id,\\\n",
    "       self.trait_id)"
   ]
  },
  {
   "cell_type": "markdown",
   "metadata": {},
   "source": [
    "### Tag To Fifa Card"
   ]
  },
  {
   "cell_type": "code",
   "execution_count": 43,
   "metadata": {},
   "outputs": [],
   "source": [
    "class TagToFifaCard(Base):\n",
    "    __tablename__ = 'TagToFifaCard'\n",
    "    id = Column(Integer, primary_key=True)\n",
    "    card_id = Column(Integer, ForeignKey('FifaCard.id'),  nullable=False)\n",
    "    tag_id = Column(Integer, ForeignKey('Tag.id'),  nullable=False)\n",
    "    \n",
    "    def __repr__(self):\n",
    "        return \"<TagToFifaCard(id='{0}', card_id={1}, tag_id={2}\".format(self.id, self.card_id,\\\n",
    "       self.tag_id)"
   ]
  },
  {
   "cell_type": "markdown",
   "metadata": {},
   "source": [
    "### Card in Club"
   ]
  },
  {
   "cell_type": "code",
   "execution_count": 44,
   "metadata": {},
   "outputs": [],
   "source": [
    "class CardInClub(Base):\n",
    "    __tablename__ = 'CardInClub'\n",
    "    __table_args__ = (\n",
    "        CheckConstraint('(number > 0) and (number <100)'),\n",
    "    )\n",
    "    id = Column(Integer, primary_key=True)\n",
    "    card_id = Column(Integer, ForeignKey('FifaCard.id'),  nullable=False)\n",
    "    number = Column(INTEGER(unsigned=True),  nullable=True)\n",
    "    joined = Column(Date,  nullable=True)\n",
    "    position = Column(Integer, ForeignKey('Position.id'),  nullable=True)\n",
    "    contract_details_id = Column(Integer, ForeignKey('ContractDetails.id'),  nullable=False)\n",
    "    club_id = Column(Integer, ForeignKey('Club.id'),  nullable=False)\n",
    "    \n",
    "    def __repr__(self):\n",
    "        return \"<CardInClub(id='{0}', card_id={1}, number={2}, joined={3}, position={4},contract_detail={5}\".format(self.id, self.card_id,\\\n",
    "       self.number, self.joined, self.joined,self.position, self.contract_details_id)"
   ]
  },
  {
   "cell_type": "markdown",
   "metadata": {},
   "source": [
    "### Card in National Team"
   ]
  },
  {
   "cell_type": "code",
   "execution_count": 45,
   "metadata": {},
   "outputs": [],
   "source": [
    "class CardInNationalTeam(Base):\n",
    "    __tablename__ = 'CardInNationalTeam'\n",
    "    __table_args__ = (\n",
    "        CheckConstraint('(number > 0) and (number <100)'),\n",
    "    )\n",
    "    id = Column(Integer, primary_key=True)\n",
    "    card_id = Column(Integer, ForeignKey('FifaCard.id'),  nullable=False)\n",
    "    number = Column(INTEGER(unsigned=True),  nullable=True)\n",
    "    position_id = Column(Integer, ForeignKey('Position.id'),  nullable=True)\n",
    "    \n",
    "    def __repr__(self):\n",
    "        return \"<CardInNationalTeam(id='{0}', card_id={1}, number={2}, position_id={4}}\".format(self.id, self.card_id,\\\n",
    "       self.number,  self.position_id)"
   ]
  },
  {
   "cell_type": "code",
   "execution_count": 46,
   "metadata": {},
   "outputs": [],
   "source": [
    "Base.metadata.create_all(engine)"
   ]
  },
  {
   "cell_type": "markdown",
   "metadata": {},
   "source": [
    "# Filling database"
   ]
  },
  {
   "cell_type": "markdown",
   "metadata": {},
   "source": [
    "### Common tables"
   ]
  },
  {
   "cell_type": "code",
   "execution_count": 47,
   "metadata": {},
   "outputs": [],
   "source": [
    "from sqlalchemy.orm import sessionmaker\n",
    "\n",
    "Session = sessionmaker(bind=engine)\n",
    "session = Session()\n",
    "session.rollback()"
   ]
  },
  {
   "cell_type": "markdown",
   "metadata": {},
   "source": [
    "### Clubs"
   ]
  },
  {
   "cell_type": "code",
   "execution_count": 48,
   "metadata": {},
   "outputs": [],
   "source": [
    "for club in set(clubs.tolist()):\n",
    "    session.add(Club(name=club))"
   ]
  },
  {
   "cell_type": "code",
   "execution_count": 49,
   "metadata": {},
   "outputs": [
    {
     "data": {
      "text/plain": [
       "[<Club(id='1', name=CD Antofagasta,\n",
       " <Club(id='2', name=Independiente Santa Fe,\n",
       " <Club(id='3', name=Cerezo Osaka,\n",
       " <Club(id='4', name=Sassuolo,\n",
       " <Club(id='5', name=Atlético Tucumán]"
      ]
     },
     "execution_count": 49,
     "metadata": {},
     "output_type": "execute_result"
    }
   ],
   "source": [
    "session.query(Club).limit(5).all()"
   ]
  },
  {
   "cell_type": "markdown",
   "metadata": {},
   "source": [
    "### Nationalities"
   ]
  },
  {
   "cell_type": "code",
   "execution_count": 50,
   "metadata": {},
   "outputs": [],
   "source": [
    "for national_team in set(national_teams.tolist()):\n",
    "    session.add(Nationality(name=national_team))"
   ]
  },
  {
   "cell_type": "code",
   "execution_count": 51,
   "metadata": {},
   "outputs": [
    {
     "data": {
      "text/plain": [
       "[<Nationality(id='1', name=Lebanon,\n",
       " <Nationality(id='2', name=Thailand,\n",
       " <Nationality(id='3', name=China PR,\n",
       " <Nationality(id='4', name=Bolivia,\n",
       " <Nationality(id='5', name=Bulgaria]"
      ]
     },
     "execution_count": 51,
     "metadata": {},
     "output_type": "execute_result"
    }
   ],
   "source": [
    "session.query(Nationality).limit(5).all()"
   ]
  },
  {
   "cell_type": "markdown",
   "metadata": {},
   "source": [
    "### Body Types"
   ]
  },
  {
   "cell_type": "code",
   "execution_count": 52,
   "metadata": {},
   "outputs": [],
   "source": [
    "for body_type in set(body_types.tolist()):\n",
    "    session.add(BodyType(body_type=body_type))"
   ]
  },
  {
   "cell_type": "code",
   "execution_count": 53,
   "metadata": {},
   "outputs": [
    {
     "data": {
      "text/plain": [
       "[<BodyType(id='1', body_type=Stocky,\n",
       " <BodyType(id='2', body_type=Normal,\n",
       " <BodyType(id='3', body_type=Neymar,\n",
       " <BodyType(id='4', body_type=Akinfenwa,\n",
       " <BodyType(id='5', body_type=Courtois]"
      ]
     },
     "execution_count": 53,
     "metadata": {},
     "output_type": "execute_result"
    }
   ],
   "source": [
    "session.query(BodyType).limit(5).all()"
   ]
  },
  {
   "cell_type": "markdown",
   "metadata": {},
   "source": [
    "### Work Rates"
   ]
  },
  {
   "cell_type": "code",
   "execution_count": 54,
   "metadata": {},
   "outputs": [],
   "source": [
    "for work_rate in set(work_rates.tolist()):\n",
    "    session.add(WorkRate(work_rate=work_rate))"
   ]
  },
  {
   "cell_type": "code",
   "execution_count": 55,
   "metadata": {},
   "outputs": [
    {
     "data": {
      "text/plain": [
       "[<WorkRate(id='1', work_rate=Medium/Low,\n",
       " <WorkRate(id='2', work_rate=Low/High,\n",
       " <WorkRate(id='3', work_rate=Low/Medium,\n",
       " <WorkRate(id='4', work_rate=High/High,\n",
       " <WorkRate(id='5', work_rate=Medium/High]"
      ]
     },
     "execution_count": 55,
     "metadata": {},
     "output_type": "execute_result"
    }
   ],
   "source": [
    "session.query(WorkRate).limit(5).all()"
   ]
  },
  {
   "cell_type": "markdown",
   "metadata": {},
   "source": [
    "### Traits"
   ]
  },
  {
   "cell_type": "code",
   "execution_count": 56,
   "metadata": {},
   "outputs": [],
   "source": [
    "for trait in set(player_traits):\n",
    "    session.add(Trait(trait=trait))"
   ]
  },
  {
   "cell_type": "code",
   "execution_count": 57,
   "metadata": {},
   "outputs": [
    {
     "data": {
      "text/plain": [
       "[<Trait(id='1', trait=Diver,\n",
       " <Trait(id='2', trait=Injury Prone,\n",
       " <Trait(id='3', trait=Dives Into Tackles (CPU AI Only),\n",
       " <Trait(id='4', trait=Avoids Using Weaker Foot,\n",
       " <Trait(id='5', trait=Skilled Dribbling]"
      ]
     },
     "execution_count": 57,
     "metadata": {},
     "output_type": "execute_result"
    }
   ],
   "source": [
    "session.query(Trait).limit(5).all()"
   ]
  },
  {
   "cell_type": "markdown",
   "metadata": {},
   "source": [
    "Tags"
   ]
  },
  {
   "cell_type": "code",
   "execution_count": 58,
   "metadata": {},
   "outputs": [],
   "source": [
    "for tag in set(player_tags):\n",
    "    session.add(Tag(tag=tag))\n"
   ]
  },
  {
   "cell_type": "code",
   "execution_count": 59,
   "metadata": {},
   "outputs": [
    {
     "data": {
      "text/plain": [
       "[<Tag(id='1', tag=Crosser,\n",
       " <Tag(id='2', tag=Aerial Threat,\n",
       " <Tag(id='3', tag=Poacher,\n",
       " <Tag(id='4', tag=Complete Midfielder,\n",
       " <Tag(id='5', tag=Tackling]"
      ]
     },
     "execution_count": 59,
     "metadata": {},
     "output_type": "execute_result"
    }
   ],
   "source": [
    "session.query(Tag).limit(5).all()"
   ]
  },
  {
   "cell_type": "code",
   "execution_count": 60,
   "metadata": {},
   "outputs": [],
   "source": [
    "for position in set(player_positions):\n",
    "    session.add(Position(position=position))"
   ]
  },
  {
   "cell_type": "code",
   "execution_count": 61,
   "metadata": {},
   "outputs": [
    {
     "data": {
      "text/plain": [
       "[<Position(id='1', position=LM,\n",
       " <Position(id='2', position=LAM,\n",
       " <Position(id='3', position=ST,\n",
       " <Position(id='4', position=RWB,\n",
       " <Position(id='5', position=RDM]"
      ]
     },
     "execution_count": 61,
     "metadata": {},
     "output_type": "execute_result"
    }
   ],
   "source": [
    "session.query(Position).limit(5).all()"
   ]
  },
  {
   "cell_type": "code",
   "execution_count": 62,
   "metadata": {},
   "outputs": [],
   "source": [
    "session.commit()"
   ]
  },
  {
   "cell_type": "markdown",
   "metadata": {},
   "source": [
    "### FifaCard "
   ]
  },
  {
   "cell_type": "markdown",
   "metadata": {},
   "source": [
    "### Some utils for adding object to FifaCardTable"
   ]
  },
  {
   "cell_type": "code",
   "execution_count": 63,
   "metadata": {},
   "outputs": [],
   "source": [
    "from sqlalchemy import sql\n",
    "\n",
    "def add_to_session_and_get_id(session, db_object):\n",
    "    session.add(db_object)\n",
    "    session.flush()\n",
    "    session.refresh(db_object)\n",
    "    return db_object.id\n",
    "\n",
    "def is_null(db_object):\n",
    "    return str(db_object) == \"nan\"\n",
    "\n",
    "def get_null_or_val(db_object):\n",
    "    return sql.null() if is_null(db_object) else db_object\n"
   ]
  },
  {
   "cell_type": "markdown",
   "metadata": {},
   "source": [
    "### Detailed Stats"
   ]
  },
  {
   "cell_type": "code",
   "execution_count": 64,
   "metadata": {},
   "outputs": [],
   "source": [
    "def add_attacking_stats(session, df_tuple):\n",
    "    crossing = df_tuple.attacking_crossing\n",
    "    finishing = df_tuple.attacking_finishing\n",
    "    heading = df_tuple.attacking_heading_accuracy\n",
    "    short_pass = df_tuple.attacking_short_passing\n",
    "    volleys  = df_tuple.attacking_volleys\n",
    "    \n",
    "    attacking_stats = AttackingStats(crossing=crossing,\n",
    "                  finishing=finishing,\n",
    "                  heading=heading,\n",
    "                  short_pass=short_pass,\n",
    "                  volleys=volleys)\n",
    "    \n",
    "    return add_to_session_and_get_id(session,attacking_stats)\n",
    "    \n",
    "def add_skills_stats(session, df_tuple):\n",
    "    dribbling = df_tuple.skill_dribbling\n",
    "    curve = df_tuple.skill_curve\n",
    "    fk_accuracy = df_tuple.skill_fk_accuracy\n",
    "    long_passing = df_tuple.skill_long_passing\n",
    "    ball_control  = df_tuple.skill_ball_control\n",
    "    \n",
    "    skill_stats = SkillStats(dribbling=dribbling,\n",
    "              curve=curve,\n",
    "              fk_accuracy=fk_accuracy,\n",
    "              long_passing=long_passing,\n",
    "              ball_control=ball_control)\n",
    "    \n",
    "    return add_to_session_and_get_id(session, skill_stats)\n",
    "    \n",
    "def add_movement_stats(session, df_tuple):\n",
    "    acceleration = df_tuple.movement_acceleration\n",
    "    sprint = df_tuple.movement_sprint_speed\n",
    "    agility = df_tuple.movement_agility\n",
    "    reactions = df_tuple.movement_reactions\n",
    "    balance = df_tuple.movement_balance\n",
    "    \n",
    "    movement_stats = MovementStats(acceleration=acceleration,\n",
    "                                  sprint=sprint,\n",
    "                                  agility=agility,\n",
    "                                  reactions=reactions,\n",
    "                                  balance=balance)\n",
    "    \n",
    "    return add_to_session_and_get_id(session, movement_stats)\n",
    "   \n",
    "def add_power_stats(session, df_tuple):\n",
    "    shot_power = df_tuple.power_shot_power\n",
    "    jumping = df_tuple.power_jumping\n",
    "    stamina = df_tuple.power_stamina\n",
    "    strength = df_tuple.power_strength\n",
    "    long_shots = df_tuple.power_long_shots\n",
    "    \n",
    "    power_stats = PowerStats(shot=shot_power,\n",
    "                            jumping=jumping,\n",
    "                            stamina=stamina,\n",
    "                            strength=strength,\n",
    "                            long_shot=long_shots)\n",
    "    \n",
    "    return add_to_session_and_get_id(session, power_stats)\n",
    "\n",
    "def add_mentality_stats(session, df_tuple):\n",
    "    \n",
    "    aggression = df_tuple.mentality_aggression\n",
    "    interceptions = df_tuple.mentality_interceptions\n",
    "    positioning = df_tuple.mentality_positioning\n",
    "    vision = df_tuple.mentality_vision\n",
    "    penalties = df_tuple.mentality_penalties\n",
    "    composure = df_tuple.mentality_composure\n",
    "    \n",
    "    mentality_stats = MentalityStats(aggression=aggression,\n",
    "                                    interceptions=interceptions,\n",
    "                                    positioning=positioning,\n",
    "                                    vision=vision,\n",
    "                                    penalties=penalties,\n",
    "                                    composure=composure)\n",
    "    \n",
    "    return add_to_session_and_get_id(session, mentality_stats)\n",
    "\n",
    "def add_def_stats(session, df_tuple):\n",
    "    \n",
    "    marking = df_tuple.defending_marking\n",
    "    standing_tackle = df_tuple.defending_standing_tackle\n",
    "    sliding_tackle = df_tuple.defending_sliding_tackle\n",
    "    \n",
    "    def_stats = DefendingStats(marking=marking,\n",
    "                              standing_tackle=standing_tackle,\n",
    "                              sliding_tackle=sliding_tackle)\n",
    "    \n",
    "    return add_to_session_and_get_id(session, def_stats)\n",
    "\n",
    "def add_goalkeeping_stats(session, df_tuple):\n",
    "    \n",
    "    diving = df_tuple.goalkeeping_diving\n",
    "    handling = df_tuple.goalkeeping_handling\n",
    "    kicking = df_tuple.goalkeeping_kicking\n",
    "    positioning = df_tuple.goalkeeping_positioning\n",
    "    reflexes = df_tuple.goalkeeping_reflexes\n",
    "    \n",
    "    goalkeeping_stats = GoalkeepingStats(diving=diving,\n",
    "                                        handling=handling,\n",
    "                                        kicking=kicking,\n",
    "                                        positioning=positioning,\n",
    "                                        reflexes=reflexes)\n",
    "    \n",
    "    return add_to_session_and_get_id(session, goalkeeping_stats)\n",
    "    \n",
    "\n",
    "\n",
    "def add_detailed_stats(session, df_tuple):\n",
    "    attacking_stats_id = add_attacking_stats(session, df_tuple)\n",
    "    skills_stats_id = add_skills_stats(session, df_tuple)\n",
    "    movement_stats_id = add_movement_stats(session, df_tuple)\n",
    "    power_stats_id = add_power_stats(session, df_tuple)\n",
    "    mentality_stats_id = add_mentality_stats(session, df_tuple)\n",
    "    def_stats_id = add_def_stats(session, df_tuple)\n",
    "    goalkeeping_stats_id = add_goalkeeping_stats(session, df_tuple)\n",
    "    \n",
    "    detailed_stats = DetailedStats(attacking_id=attacking_stats_id,\n",
    "                                  skills_id=skills_stats_id,\n",
    "                                  movement_id=movement_stats_id,\n",
    "                                  power_id=power_stats_id,\n",
    "                                  mentality_id=mentality_stats_id,\n",
    "                                  defending_id=def_stats_id,\n",
    "                                  goalkeeping_id=goalkeeping_stats_id)\n",
    "    \n",
    "    return add_to_session_and_get_id(session, detailed_stats)"
   ]
  },
  {
   "cell_type": "markdown",
   "metadata": {},
   "source": [
    "### Overall stats"
   ]
  },
  {
   "cell_type": "code",
   "execution_count": 65,
   "metadata": {},
   "outputs": [],
   "source": [
    "import numpy as np\n",
    "\n",
    "def add_field_player_stats(session, df_tuple):\n",
    "    pace = df_tuple.pace\n",
    "    shooting = df_tuple.shooting\n",
    "    passing = df_tuple.passing\n",
    "    dribbling = df_tuple.dribbling\n",
    "    defending  = df_tuple.defending\n",
    "    physic  = df_tuple.physic\n",
    "        \n",
    "    filed_player_stats = FieldPlayerStats(pace=pace,\n",
    "                    shooting=shooting,\n",
    "                    passing=passing,\n",
    "                    dribbling=dribbling,\n",
    "                    defending = defending,\n",
    "                    physic=physic)\n",
    "    \n",
    "    return add_to_session_and_get_id(session, filed_player_stats)\n",
    "\n",
    "def add_goalkeeper_stats(session, df_tuple):\n",
    "    diving = df_tuple.gk_diving\n",
    "    handling = df_tuple.gk_handling\n",
    "    kicking = df_tuple.gk_kicking\n",
    "    reflexes = df_tuple.gk_reflexes\n",
    "    speed = df_tuple.gk_speed\n",
    "    positioning  = df_tuple.gk_positioning\n",
    "        \n",
    "    goalkeeper_stats = GoalkeeperStats(diving=diving,\n",
    "                    handling=handling,\n",
    "                    kicking=kicking,\n",
    "                    reflexes=reflexes,\n",
    "                    speed = speed,\n",
    "                    positioning=positioning)\n",
    "    \n",
    "    \n",
    "    return add_to_session_and_get_id(session, goalkeeper_stats)\n",
    "\n",
    "def is_goalkeeper(df_tuple):\n",
    "    return is_null(df_tuple.pace)\n",
    "\n",
    "def add_overall_stats(session, df_tuple):\n",
    "    overall = df_tuple.overall\n",
    "    potential = df_tuple.potential\n",
    "    overall_id = 0\n",
    "    if is_goalkeeper(df_tuple):\n",
    "        goalkeeper_id = add_goalkeeper_stats(session, df_tuple)\n",
    "        overall_id = add_to_session_and_get_id(session,OverallStats(overall=overall,\n",
    "                    potential = potential,\n",
    "                    goalkeeper_id =goalkeeper_id ))\n",
    "    else:\n",
    "        field_player_id = add_field_player_stats(session,df_tuple)\n",
    "        overall_id = add_to_session_and_get_id(session,OverallStats(overall=overall,\n",
    "                    potential = potential,\n",
    "                    field_player_id =field_player_id ))\n",
    "        \n",
    "    return overall_id"
   ]
  },
  {
   "cell_type": "markdown",
   "metadata": {},
   "source": [
    "### Fifa Card"
   ]
  },
  {
   "cell_type": "code",
   "execution_count": 66,
   "metadata": {},
   "outputs": [],
   "source": [
    "from sqlalchemy import sql\n",
    "\n",
    "def find_body_type_id(session, body_type):\n",
    "    return session.query(BodyType.id).filter(BodyType.body_type == body_type).all()[0][0]\n",
    "\n",
    "def find_work_rate_id(session, work_rate):\n",
    "    return session.query(WorkRate.id).filter(WorkRate.work_rate == work_rate).all()[0][0]\n",
    "\n",
    "def find_position_id(session, position):\n",
    "    return session.query(Position.id).filter(Position.position == position).all()[0][0]\n",
    "\n",
    "def find_club_id(session, club_name):\n",
    "    return session.query(Club.id).filter(Club.name == club_name).all()[0][0]\n",
    "\n",
    "def find_national_team_id(session, national_team_name):\n",
    "    return session.query(Nationality.id).filter(Nationality.name == national_team_name).all()[0][0]\n",
    "\n",
    "def add_personal_physical(session, df_tuple):\n",
    "    \n",
    "    body_type_id = find_body_type_id(session, df_tuple.body_type)\n",
    "    height_cm = df_tuple.height_cm\n",
    "    weight_kg= df_tuple.weight_kg\n",
    "    \n",
    "    physical = PersonalPhysical(height= height_cm,\n",
    "                               weight=weight_kg,\n",
    "                               body_type_id = body_type_id)\n",
    "    \n",
    "    return add_to_session_and_get_id(session, physical)\n",
    "\n",
    "def add_personal_info(session, df_tuple):\n",
    "    short_name =df_tuple.short_name\n",
    "    long_name =df_tuple.long_name\n",
    "    dob = df_tuple.dob\n",
    "    persoanl_physical_id = add_personal_physical(session, df_tuple)\n",
    "    nationality = df_tuple.nationality\n",
    "    \n",
    "\n",
    "    personal_info = PersonalInfo(short_name=short_name,\n",
    "                       long_name=long_name,\n",
    "                       dob=dob,\n",
    "                       nationality=nationality)\n",
    "\n",
    "    return add_to_session_and_get_id(session, personal_info)\n",
    "    \n",
    "def add_stars(session, df_tuple):\n",
    "    \n",
    "    international_reputation = df_tuple.international_reputation    \n",
    "    weak_foot = df_tuple.weak_foot\n",
    "    skill_moves = skill_moves.weak_foot\n",
    "    \n",
    "    stars = Stars(skills = skill_moves,\n",
    "                 reputation = international_reputation,\n",
    "                 weak_foot = weak_foot)\n",
    "    \n",
    "    return add_to_session_and_get_id(session, stars)\n",
    "\n",
    "def better_foot_to_enum(better_foot):\n",
    "    return BetterFoot.LEFT if  better_foot == \"Left\" else BetterFoot.RIGHT \n",
    "\n",
    "def real_face_to_boolean(real_face):\n",
    "    return True if real_face == \"Yes\" else False\n",
    "        \n",
    "def add_fifa_card(session, df_tuple):\n",
    "    personal_info_id = add_personal_info(session, df_tuple)\n",
    "    personal_physical_id = add_personal_physical(session, df_tuple)\n",
    "    real_face = real_face_to_boolean(df_tuple.real_face)\n",
    "    better_foot = better_foot_to_enum(df_tuple.preferred_foot)\n",
    "    overall_stats_id = add_overall_stats(session, df_tuple)\n",
    "    detailed_stats_id = add_detailed_stats(session,df_tuple)\n",
    "    work_rate_id = find_work_rate_id(session, df_tuple.work_rate)\n",
    "    value_eur = df_tuple.value_eur\n",
    "    nationality_id  =find_national_team_id(session, df_tuple.nationality)\n",
    "    \n",
    "    fifa_card = FifaCard(personal_info_id=personal_info_id,\n",
    "                         personal_physical_id= personal_physical_id,\n",
    "                         work_rate_id = work_rate_id,\n",
    "                         overall_stats_id=overall_stats_id,\n",
    "                         detailed_stats_id= detailed_stats_id,\n",
    "                         real_face=real_face,\n",
    "                         better_foot=better_foot,\n",
    "                         value_eur=value_eur,\n",
    "                         nationality_id = nationality_id)\n",
    "    \n",
    "    return add_to_session_and_get_id(session, fifa_card)\n",
    "\n",
    "def add_player_to_position(session, player_positions, fifa_card_id):\n",
    "    player_positions = player_positions.split(',')\n",
    "    positions = [position.strip() for position in player_positions]\n",
    "    for position in positions:\n",
    "        position_id = find_position_id(session, position)    \n",
    "        add_to_session_and_get_id(session, PositionToFifaCard(card_id = fifa_card_id,\n",
    "                          position_id=position_id))\n",
    "    \n",
    "    \n",
    "def add_contract_details(session, df_tuple):\n",
    "    wag_eur = df_tuple.wage_eur\n",
    "    release_eur = get_null_or_val(df_tuple.release_clause_eur)\n",
    "    club_loaned_id = sql.null()\n",
    "    valid_until = df_tuple.contract_valid_until\n",
    "    if not is_null(df_tuple.loaned_from):\n",
    "        club_loaned_id = find_club_id(session, df_tuple.loaned_from)\n",
    "    \n",
    "    details = ContractDetails(wag_eur=wag_eur,\n",
    "                             release_eur=release_eur,\n",
    "                             loaded_from=club_loaned_id,\n",
    "                             valid_until=valid_until)\n",
    "    \n",
    "    return add_to_session_and_get_id(session, details)\n",
    "    \n",
    "def card_has_club(df_tuple):\n",
    "    return is_null(df_tuple.wage_eur)\n",
    "\n",
    "def add_player_in_club(session, df_tuple, fifa_card_id):\n",
    "    \n",
    "    if card_has_club(df_tuple): # Skip the player who not plaing in any club right now \n",
    "        \n",
    "        position_id = sql.null()\n",
    "        if not is_null(df_tuple.team_position):\n",
    "            position_id = find_position_id(session, df_tuple.team_position)\n",
    "            \n",
    "        number = get_null_or_val(df_tuple.team_jersey_number)\n",
    "        joined = get_null_or_val(df_tuple.joined) \n",
    "        contract_details_id = add_contract_details(session, df_tuple)\n",
    "        club_id = find_club_id(session, df_tuple.club)\n",
    "        \n",
    "        card_in_club = CardInClub(card_id = fifa_card_id,\n",
    "                                 position=position_id,\n",
    "                                 number=number,\n",
    "                                 joined=joined,\n",
    "                                 club_id = club_id,\n",
    "                                 contract_details_id = contract_details_id )\n",
    "        \n",
    "        add_to_session_and_get_id(session, card_in_club)\n",
    "\n",
    "def card_represent_national_team(df_tuple):\n",
    "    return not is_null(df_tuple.nation_jersey_number)\n",
    "\n",
    "def add_player_in_national_team(session, df_tuple, fifa_card_id):\n",
    "    \n",
    "    if card_represent_national_team(df_tuple): # Skip the player who has not been representing any country so far. \n",
    "            \n",
    "        position_id = sql.null()\n",
    "        number = get_null_or_val(df_tuple.team_jersey_number)\n",
    "        \n",
    "        if not is_null(df_tuple.team_position):\n",
    "            position_id = find_position_id(session, df_tuple.team_position)\n",
    "                    \n",
    "        card_in_national_team = CardInNationalTeam(card_id = fifa_card_id,\n",
    "                                 number=number,\n",
    "                                 position_id=position_id)\n",
    "        \n",
    "        return add_to_session_and_get_id(session, card_in_national_team)"
   ]
  },
  {
   "cell_type": "markdown",
   "metadata": {},
   "source": [
    "### Tags and Traits To Players"
   ]
  },
  {
   "cell_type": "code",
   "execution_count": 70,
   "metadata": {},
   "outputs": [],
   "source": [
    "import numpy as np\n",
    "\n",
    "def find_tag_id(session, tag):\n",
    "    return session.query(Tag.id).filter(Tag.tag == tag)[0][0]\n",
    "\n",
    "def card_has_tags(df_tuple):\n",
    "    return not str(df_tuple.player_tags) == \"nan\" \n",
    "    \n",
    "def add_tag_to_fifa_card_id(session, df_tuple, card_id):\n",
    "    if card_has_tags(df_tuple):\n",
    "        tags = [\"\".join(tag.strip()[1:]) for tag in df_tuple.player_tags.split(',')]\n",
    "        for tag in tags:\n",
    "            tag_id = find_tag_id(session, tag)    \n",
    "            add_to_session_and_get_id(session, TagToFifaCard(card_id = card_id,\n",
    "                              tag_id=tag_id))\n",
    "            \n",
    "def card_has_traits(df_tuple):\n",
    "    return not is_null(df_tuple.player_traits) \n",
    "\n",
    "def find_trait_id(session, trait):\n",
    "    return session.query(Trait.id).filter(Trait.trait == trait)[0][0]\n",
    "\n",
    "def add_trait_to_fifa_card_id(session, df_tuple, card_id):\n",
    "    if card_has_traits(df_tuple):\n",
    "        traits = [trait.strip() for trait in df_tuple.player_traits.split(',')]\n",
    "        for trait in traits:\n",
    "            trait_id = find_trait_id(session, trait)    \n",
    "            add_to_session_and_get_id(session, TraitToFifaCard(card_id = card_id,\n",
    "                              trait_id=trait_id))"
   ]
  },
  {
   "cell_type": "markdown",
   "metadata": {},
   "source": [
    "# Add all stuff"
   ]
  },
  {
   "cell_type": "code",
   "execution_count": 71,
   "metadata": {},
   "outputs": [],
   "source": [
    "def add_all_stuff(session, df_tuple):\n",
    "    fifa_card_id = add_fifa_card(session, df_tuple)\n",
    "    add_trait_to_fifa_card_id(session, df_tuple, fifa_card_id)\n",
    "    add_tag_to_fifa_card_id(session, df_tuple, fifa_card_id)\n",
    "    add_player_in_club(session, df_tuple, fifa_card_id)\n",
    "    add_player_in_national_team(session, df_tuple, fifa_card_id)\n"
   ]
  },
  {
   "cell_type": "code",
   "execution_count": 72,
   "metadata": {},
   "outputs": [],
   "source": [
    "for df_tuple in df.itertuples():\n",
    "    add_all_stuff(session, df_tuple)"
   ]
  },
  {
   "cell_type": "code",
   "execution_count": 73,
   "metadata": {},
   "outputs": [
    {
     "data": {
      "text/plain": [
       "[<FifaCard(id='1', personal_info_id=1, overall_stats_id=1        detailed_stats_id=1, work_rate_id=1, real_face=True, better_foot=BetterFoot.LEFT, personal_physical_id=2, value_eur=95500000, nationality_id=2,\n",
       " <FifaCard(id='2', personal_info_id=2, overall_stats_id=2        detailed_stats_id=2, work_rate_id=7, real_face=True, better_foot=BetterFoot.RIGHT, personal_physical_id=4, value_eur=58500000, nationality_id=4,\n",
       " <FifaCard(id='3', personal_info_id=3, overall_stats_id=3        detailed_stats_id=3, work_rate_id=8, real_face=True, better_foot=BetterFoot.RIGHT, personal_physical_id=6, value_eur=105500000, nationality_id=6,\n",
       " <FifaCard(id='4', personal_info_id=4, overall_stats_id=4        detailed_stats_id=4, work_rate_id=6, real_face=True, better_foot=BetterFoot.RIGHT, personal_physical_id=8, value_eur=77500000, nationality_id=8,\n",
       " <FifaCard(id='5', personal_info_id=5, overall_stats_id=5        detailed_stats_id=5, work_rate_id=8, real_face=True, better_foot=BetterFoot.RIGHT, personal_physical_id=10, value_eur=90000000, nationality_id=10,\n",
       " <FifaCard(id='6', personal_info_id=6, overall_stats_id=6        detailed_stats_id=6, work_rate_id=4, real_face=True, better_foot=BetterFoot.RIGHT, personal_physical_id=12, value_eur=90000000, nationality_id=12,\n",
       " <FifaCard(id='7', personal_info_id=7, overall_stats_id=7        detailed_stats_id=7, work_rate_id=6, real_face=True, better_foot=BetterFoot.RIGHT, personal_physical_id=14, value_eur=67500000, nationality_id=14,\n",
       " <FifaCard(id='8', personal_info_id=8, overall_stats_id=8        detailed_stats_id=8, work_rate_id=6, real_face=True, better_foot=BetterFoot.RIGHT, personal_physical_id=16, value_eur=78000000, nationality_id=16,\n",
       " <FifaCard(id='9', personal_info_id=9, overall_stats_id=9        detailed_stats_id=9, work_rate_id=4, real_face=True, better_foot=BetterFoot.RIGHT, personal_physical_id=18, value_eur=45000000, nationality_id=18,\n",
       " <FifaCard(id='10', personal_info_id=10, overall_stats_id=10        detailed_stats_id=10, work_rate_id=8, real_face=True, better_foot=BetterFoot.LEFT, personal_physical_id=20, value_eur=80500000, nationality_id=20]"
      ]
     },
     "execution_count": 73,
     "metadata": {},
     "output_type": "execute_result"
    }
   ],
   "source": [
    "session.query(FifaCard).limit(10).all()"
   ]
  },
  {
   "cell_type": "code",
   "execution_count": 74,
   "metadata": {},
   "outputs": [],
   "source": [
    "session.commit()"
   ]
  }
 ],
 "metadata": {
  "kernelspec": {
   "display_name": "Python 3",
   "language": "python",
   "name": "python3"
  },
  "language_info": {
   "codemirror_mode": {
    "name": "ipython",
    "version": 3
   },
   "file_extension": ".py",
   "mimetype": "text/x-python",
   "name": "python",
   "nbconvert_exporter": "python",
   "pygments_lexer": "ipython3",
   "version": "3.8.5"
  }
 },
 "nbformat": 4,
 "nbformat_minor": 4
}
